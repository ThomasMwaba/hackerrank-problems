{
 "cells": [
  {
   "cell_type": "markdown",
   "metadata": {},
   "source": [
    "### Population Census\n",
    "\n",
    "Given the **CITY** and **COUNTRY** tables, query the **sum** of the populations of all cities where the **CONTINENT** is **'Asia'**.\n",
    "\n",
    "**Note**: **CITY.CountryCode** and **COUNTRY.Code** are matching key columns."
   ]
  },
  {
   "cell_type": "code",
   "execution_count": null,
   "metadata": {
    "vscode": {
     "languageId": "sql"
    }
   },
   "outputs": [],
   "source": [
    "SELECT SUM(CITY.POPULATION) FROM CITY\n",
    "INNER JOIN COUNTRY ON CITY.COUNTRYCODE = COUNTRY.CODE\n",
    "WHERE CONTINENT = 'Asia';"
   ]
  },
  {
   "cell_type": "code",
   "execution_count": null,
   "metadata": {
    "vscode": {
     "languageId": "sql"
    }
   },
   "outputs": [],
   "source": []
  },
  {
   "cell_type": "markdown",
   "metadata": {},
   "source": [
    "### African Cities\n",
    "\n",
    "Given the **CITY** and **COUNTRY** tables, query the names of all cities where the **CONTINENT** is **'Africa'**.\n",
    "\n",
    "Note: **CITY.CountryCode** and **COUNTRY.Code** are matching key columns."
   ]
  },
  {
   "cell_type": "code",
   "execution_count": null,
   "metadata": {
    "vscode": {
     "languageId": "sql"
    }
   },
   "outputs": [],
   "source": [
    "SELECT CITY.NAME FROM CITY\n",
    "INNER JOIN COUNTRY ON CITY.COUNTRYCODE = COUNTRY.CODE\n",
    "WHERE CONTINENT = 'Africa';"
   ]
  },
  {
   "cell_type": "code",
   "execution_count": null,
   "metadata": {
    "vscode": {
     "languageId": "sql"
    }
   },
   "outputs": [],
   "source": []
  },
  {
   "cell_type": "markdown",
   "metadata": {},
   "source": [
    "### Average Population of Each Continent\n",
    "\n",
    "Given the **CITY** and **COUNTRY** tables, query the names of all the continents (COUNTRY.Continent) and their respective average city populations (CITY.Population) rounded down to the nearest integer.\n",
    "\n",
    "Note: CITY.CountryCode and COUNTRY.Code are matching key columns."
   ]
  },
  {
   "cell_type": "code",
   "execution_count": null,
   "metadata": {
    "vscode": {
     "languageId": "sql"
    }
   },
   "outputs": [],
   "source": [
    "SELECT COUNTRY.CONTINENT, FLOOR(AVG(CITY.POPULATION)) FROM CITY\n",
    "JOIN COUNTRY ON CITY.COUNTRYCODE = COUNTRY.CODE\n",
    "GROUP BY COUNTRY.CONTINENT;"
   ]
  }
 ],
 "metadata": {
  "language_info": {
   "name": "python"
  }
 },
 "nbformat": 4,
 "nbformat_minor": 2
}
