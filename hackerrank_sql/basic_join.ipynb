{
 "cells": [
  {
   "cell_type": "markdown",
   "metadata": {},
   "source": [
    "### Population Census\n",
    "\n",
    "Given the **CITY** and **COUNTRY** tables, query the **sum** of the populations of all cities where the **CONTINENT** is **'Asia'**.\n",
    "\n",
    "**Note**: **CITY.CountryCode** and **COUNTRY.Code** are matching key columns."
   ]
  },
  {
   "cell_type": "code",
   "execution_count": null,
   "metadata": {
    "vscode": {
     "languageId": "sql"
    }
   },
   "outputs": [],
   "source": [
    "SELECT SUM(CITY.POPULATION) FROM CITY\n",
    "INNER JOIN COUNTRY ON CITY.COUNTRYCODE = COUNTRY.CODE\n",
    "WHERE CONTINENT = 'Asia';"
   ]
  },
  {
   "cell_type": "code",
   "execution_count": null,
   "metadata": {
    "vscode": {
     "languageId": "sql"
    }
   },
   "outputs": [],
   "source": []
  },
  {
   "cell_type": "markdown",
   "metadata": {},
   "source": [
    "### African Cities\n",
    "\n",
    "Given the **CITY** and **COUNTRY** tables, query the names of all cities where the **CONTINENT** is **'Africa'**.\n",
    "\n",
    "Note: **CITY.CountryCode** and **COUNTRY.Code** are matching key columns."
   ]
  },
  {
   "cell_type": "code",
   "execution_count": null,
   "metadata": {
    "vscode": {
     "languageId": "sql"
    }
   },
   "outputs": [],
   "source": [
    "SELECT CITY.NAME FROM CITY\n",
    "INNER JOIN COUNTRY ON CITY.COUNTRYCODE = COUNTRY.CODE\n",
    "WHERE CONTINENT = 'Africa';"
   ]
  },
  {
   "cell_type": "code",
   "execution_count": null,
   "metadata": {
    "vscode": {
     "languageId": "sql"
    }
   },
   "outputs": [],
   "source": []
  },
  {
   "cell_type": "markdown",
   "metadata": {},
   "source": [
    "### Average Population of Each Continent\n",
    "\n",
    "Given the **CITY** and **COUNTRY** tables, query the names of all the continents (COUNTRY.Continent) and their respective average city populations (CITY.Population) rounded down to the nearest integer.\n",
    "\n",
    "Note: CITY.CountryCode and COUNTRY.Code are matching key columns."
   ]
  },
  {
   "cell_type": "code",
   "execution_count": null,
   "metadata": {
    "vscode": {
     "languageId": "sql"
    }
   },
   "outputs": [],
   "source": [
    "SELECT COUNTRY.CONTINENT, FLOOR(AVG(CITY.POPULATION)) FROM CITY\n",
    "JOIN COUNTRY ON CITY.COUNTRYCODE = COUNTRY.CODE\n",
    "GROUP BY COUNTRY.CONTINENT;"
   ]
  },
  {
   "cell_type": "code",
   "execution_count": null,
   "metadata": {
    "vscode": {
     "languageId": "sql"
    }
   },
   "outputs": [],
   "source": []
  },
  {
   "cell_type": "markdown",
   "metadata": {},
   "source": [
    "### The Report\n",
    "\n",
    "You are given two tables: Students and Grades. Students contains three columns ID, Name and Marks.\n",
    "\n",
    "Ketty gives Eve a task to generate a report containing three columns: Name, Grade and Mark. Ketty doesn't want the NAMES of those students who received a grade lower than 8. The report must be in descending order by grade -- i.e. higher grades are entered first. If there is more than one student with the same grade (8-10) assigned to them, order those particular students by their name alphabetically. Finally, if the grade is lower than 8, use \"NULL\" as their name and list them by their grades in descending order. If there is more than one student with the same grade (1-7) assigned to them, order those particular students by their marks in ascending order.\n",
    "\n",
    "Write a query to help Eve."
   ]
  },
  {
   "cell_type": "code",
   "execution_count": null,
   "metadata": {
    "vscode": {
     "languageId": "sql"
    }
   },
   "outputs": [],
   "source": [
    "SELECT \n",
    "    CASE \n",
    "        WHEN GRADES.GRADE < 8 THEN NULL \n",
    "        ELSE STUDENTS.NAME \n",
    "    END AS NAME,\n",
    "    GRADES.GRADE,\n",
    "    STUDENTS.MARKS\n",
    "FROM\n",
    "    STUDENTS\n",
    "INNER JOIN GRADES ON\n",
    "    (STUDENTS.MARKS BETWEEN GRADES.MIN_MARK AND GRADES.MAX_MARK)\n",
    "ORDER  BY\n",
    "    GRADES.GRADE DESC, \n",
    "    STUDENTS.NAME ASC, \n",
    "    STUDENTS.MARKS ASC;"
   ]
  }
 ],
 "metadata": {
  "language_info": {
   "name": "python"
  }
 },
 "nbformat": 4,
 "nbformat_minor": 2
}
