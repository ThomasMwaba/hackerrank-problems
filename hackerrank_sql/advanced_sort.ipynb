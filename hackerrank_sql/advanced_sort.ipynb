{
 "cells": [
  {
   "cell_type": "markdown",
   "metadata": {},
   "source": [
    "### Type of Triangle\n",
    "\n",
    "Write a query identifying the type of each record in the TRIANGLES table using its three side lengths. Output one of the following statements for each record in the table:\n",
    "\n",
    "**Equilateral**: It's a triangle with  sides of equal length.\n",
    "**Isosceles**: It's a triangle with  sides of equal length.\n",
    "**Scalene**: It's a triangle with  sides of differing lengths.\n",
    "**Not A Triangle**: The given values of **A**, **B**, and **C** don't form a triangle."
   ]
  },
  {
   "cell_type": "code",
   "execution_count": null,
   "metadata": {
    "vscode": {
     "languageId": "sql"
    }
   },
   "outputs": [],
   "source": [
    "SELECT \n",
    "  CASE\n",
    "    WHEN A + B <= C OR B + C <= A OR C + A <= B THEN 'Not A Triangle'\n",
    "    WHEN A = B AND B = C THEN 'Equilateral'\n",
    "    WHEN A = B OR B = C OR A = C THEN 'Isosceles'\n",
    "    ELSE 'Scalene'\n",
    "  END AS Triangle_type\n",
    "FROM TRIANGLES;"
   ]
  },
  {
   "cell_type": "code",
   "execution_count": null,
   "metadata": {
    "vscode": {
     "languageId": "sql"
    }
   },
   "outputs": [],
   "source": []
  },
  {
   "cell_type": "markdown",
   "metadata": {},
   "source": [
    "### The PADS\n",
    "\n",
    "#### Generate the following two result sets:\n",
    "\n",
    "Query an alphabetically ordered list of all names in OCCUPATIONS, immediately followed by the first letter of each profession as a parenthetical (i.e.: enclosed in parentheses). For example: **AnActorName(A)**, **ADoctorName(D)**, **AProfessorName(P)**, and **ASingerName(S)**.\n",
    "Query the number of ocurrences of each occupation in OCCUPATIONS. Sort the occurrences in ascending order, and output them in the following format:"
   ]
  },
  {
   "cell_type": "code",
   "execution_count": null,
   "metadata": {
    "vscode": {
     "languageId": "sql"
    }
   },
   "outputs": [],
   "source": [
    "SELECT CONCAT(Name,'(',LEFT(OCCUPATION,1),')') AS NAME_OCC FROM OCCUPATIONS ORDER BY Name ASC; SELECT CONCAT('There are a total of',' ',COUNT(OCCUPATION),' ',LOWER(OCCUPATION),'s.') FROM OCCUPATIONS GROUP BY OCCUPATION ORDER BY COUNT(OCCUPATION),OCCUPATION ;"
   ]
  },
  {
   "cell_type": "code",
   "execution_count": null,
   "metadata": {
    "vscode": {
     "languageId": "sql"
    }
   },
   "outputs": [],
   "source": []
  },
  {
   "cell_type": "markdown",
   "metadata": {},
   "source": [
    "### Occupations\n",
    "\n",
    "You are given a table, BST, containing two columns: N and P, where N represents the value of a node in Binary Tree, and P is the parent of N."
   ]
  },
  {
   "cell_type": "code",
   "execution_count": null,
   "metadata": {
    "vscode": {
     "languageId": "sql"
    }
   },
   "outputs": [],
   "source": [
    "SELECT CASE\n",
    "    WHEN P IS NULL THEN CONCAT(N, ' Root')\n",
    "    WHEN N IN (SELECT DISTINCT P FROM BST) THEN CONCAT(N, ' Inner')\n",
    "    ELSE CONCAT(N, ' Leaf')\n",
    "    END\n",
    "FROM BST\n",
    "ORDER BY N ASC;"
   ]
  }
 ],
 "metadata": {
  "language_info": {
   "name": "python"
  }
 },
 "nbformat": 4,
 "nbformat_minor": 2
}
