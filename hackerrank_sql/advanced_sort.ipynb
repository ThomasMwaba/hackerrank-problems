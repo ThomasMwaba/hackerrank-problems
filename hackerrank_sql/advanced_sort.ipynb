{
 "cells": [
  {
   "cell_type": "markdown",
   "metadata": {},
   "source": [
    "### Type of Triangle\n",
    "\n",
    "Write a query identifying the type of each record in the TRIANGLES table using its three side lengths. Output one of the following statements for each record in the table:\n",
    "\n",
    "**Equilateral**: It's a triangle with  sides of equal length.\n",
    "**Isosceles**: It's a triangle with  sides of equal length.\n",
    "**Scalene**: It's a triangle with  sides of differing lengths.\n",
    "**Not A Triangle**: The given values of **A**, **B**, and **C** don't form a triangle."
   ]
  },
  {
   "cell_type": "code",
   "execution_count": null,
   "metadata": {
    "vscode": {
     "languageId": "sql"
    }
   },
   "outputs": [],
   "source": [
    "SELECT \n",
    "  CASE\n",
    "    WHEN A + B <= C OR B + C <= A OR C + A <= B THEN 'Not A Triangle'\n",
    "    WHEN A = B AND B = C THEN 'Equilateral'\n",
    "    WHEN A = B OR B = C OR A = C THEN 'Isosceles'\n",
    "    ELSE 'Scalene'\n",
    "  END AS Triangle_type\n",
    "FROM TRIANGLES;"
   ]
  }
 ],
 "metadata": {
  "language_info": {
   "name": "python"
  }
 },
 "nbformat": 4,
 "nbformat_minor": 2
}
