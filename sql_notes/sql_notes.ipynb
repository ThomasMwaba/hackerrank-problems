{
 "cells": [
  {
   "cell_type": "markdown",
   "metadata": {
    "vscode": {
     "languageId": "sql"
    }
   },
   "source": [
    "#### Database Tables \n",
    "\n",
    "- A Database usually has got one or more tables, every table has a name\n",
    "- SQL is a standard language for storing, manipulating and retrieving data in databases."
   ]
  },
  {
   "cell_type": "markdown",
   "metadata": {},
   "source": []
  },
  {
   "cell_type": "markdown",
   "metadata": {},
   "source": [
    "### Some of The Most Important SQL Commands\n",
    "\n",
    "- **SELECT** - selects data from a database (Veritabanındaki bilgileri sorgulamak için kullanılır).\n",
    "- **UPDATE** - updates data in a database (Veritabanındaki bilgiyi yeni bilgiyle güncellemek için kullanılır).\n",
    "- **DELETE** - deletes data from a database (Veritabanındaki bilgiyi silmek için kullanılır).\n",
    "- **DROP TABLE** - deletes a table (Veritabanında bulunan bir tabloyu silmek için kullanılır).\n",
    "- **CREATE TABLE** - creates a new table (Veritabanında yeni bir tablo oluşturmak için kullanılır).\n",
    "- **ALTER TABLE** - modifies a table (Mevcut bir tabloyu veya tablodaki sütunları değiştirmek için kullanılır).\n",
    "- **CREATE DATABASE** - creates a new database (Yeni bir veritabanı oluşturursunuz).\n",
    "- **INSERT INTO** - inserts new data into a database (Veritabanına yeni veriler eklemek için kullanılır)."
   ]
  },
  {
   "cell_type": "markdown",
   "metadata": {},
   "source": []
  },
  {
   "cell_type": "markdown",
   "metadata": {
    "vscode": {
     "languageId": "plaintext"
    }
   },
   "source": [
    "### SQL SELECT \n",
    "\n",
    "The **SELECT** statement is used to **select** data from a database."
   ]
  },
  {
   "cell_type": "markdown",
   "metadata": {},
   "source": [
    "### In SQL \n",
    "\n",
    "\n",
    "\n",
    "-  The **star** allows us to select all the columns from a table.\n",
    "\n",
    "```sql\n",
    "SELECT * \n",
    "```\n",
    "\n",
    "\n",
    "- The *Semicolon* shows the end of a SQL statement\n",
    "\n",
    "```sql\n",
    "SELECT * FROM Table_1;\n",
    "```\n",
    "- It also allows us to run more than one SQL Statement in the same call.\n",
    "\n",
    "```sql\n",
    "SELECT * FROM Table_1;\n",
    "SELECT * FROM Table_1;\n",
    "```\n",
    "\n",
    "\n",
    "Let's say we have a database called **African_Countries** and this database has got a table called **Country_Details** and we want to select data from it."
   ]
  },
  {
   "cell_type": "markdown",
   "metadata": {},
   "source": [
    "| CountryID | Name           | Region         | Population | Currency         | Staple_Food               |\n",
    "|-----------|----------------|----------------|------------|------------------|---------------------------|\n",
    "| 1         | Nigeria        | West Africa    | 223 million | Nigerian Naira   | Jollof Rice               |\n",
    "| 2         | Kenya          | East Africa    | 54 million  | Kenyan Shilling  | Ugali (Maize porridge)    |\n",
    "| 3         | Egypt          | North Africa   | 109 million | Egyptian Pound   | Aish Baladi (Flatbread)   |\n",
    "| 4         | South Africa   | Southern Africa| 60 million  | South African Rand | Pap (Maize porridge)      |\n",
    "| 5         | Ghana          | West Africa    | 32 million  | Ghanaian Cedi    | Fufu (Cassava/Yam)        |\n",
    "\n",
    "\n",
    "\n",
    "**To select all the columns from the table above**"
   ]
  },
  {
   "cell_type": "markdown",
   "metadata": {
    "vscode": {
     "languageId": "sql"
    }
   },
   "source": [
    "```sql\n",
    "SELECT * FROM Country_Details;\n",
    "```"
   ]
  },
  {
   "cell_type": "code",
   "execution_count": null,
   "metadata": {
    "vscode": {
     "languageId": "sql"
    }
   },
   "outputs": [],
   "source": []
  },
  {
   "cell_type": "markdown",
   "metadata": {},
   "source": [
    "SQL also allows us to select specific columns from the table as shown below\n",
    "\n",
    "```sql\n",
    "SELECT column1, column2, ...\n",
    "FROM table_name;\n",
    "```\n",
    "\n",
    "Using our Country_Details table,"
   ]
  },
  {
   "cell_type": "markdown",
   "metadata": {},
   "source": [
    "```sql\n",
    "SELECT Name, Staple_Food\n",
    "FROM Country_Details;\n",
    "```\n",
    "\n",
    "The result of this **SELECT** statement would be:"
   ]
  },
  {
   "cell_type": "markdown",
   "metadata": {},
   "source": [
    "| Name          | Staple Food               |\n",
    "|---------------|---------------------------|\n",
    "| Nigeria       | Jollof Rice               |\n",
    "| Kenya         | Ugali (Maize porridge)    |\n",
    "| Egypt         | Aish Baladi (Flatbread)   |\n",
    "| South Africa  | Pap (Maize porridge)      |\n",
    "| Ghana         | Fufu (Cassava/Yam)        |\n"
   ]
  },
  {
   "cell_type": "code",
   "execution_count": null,
   "metadata": {
    "vscode": {
     "languageId": "sql"
    }
   },
   "outputs": [],
   "source": []
  },
  {
   "cell_type": "markdown",
   "metadata": {},
   "source": [
    "### WHERE Clause\n",
    "\n",
    "The **WHERE** clause is used to filter records.\n",
    "\n",
    "It is used to get records that meet a specific condition\n",
    "\n",
    "* Quotes are used when selecting records that are in text format but not numeric"
   ]
  },
  {
   "cell_type": "markdown",
   "metadata": {},
   "source": [
    "| CountryID | Name           | Region          | Population (millions) | Currency           | Staple_Food               |\n",
    "|-----------|----------------|-----------------|-----------------------|--------------------|---------------------------|\n",
    "| 1         | Nigeria        | West Africa     | 223                   | Nigerian Naira     | Jollof Rice               |\n",
    "| 2         | Kenya          | East Africa     | 54                    | Kenyan Shilling    | Ugali (Maize porridge)    |\n",
    "| 3         | Egypt          | North Africa    | 109                   | Egyptian Pound     | Aish Baladi (Flatbread)   |\n",
    "| 4         | South Africa   | Southern Africa | 60                    | South African Rand | Pap (Maize porridge)      |\n",
    "| 5         | Ghana          | West Africa     | 32                    | Ghanaian Cedi      | Fufu (Cassava/Yam)        |\n"
   ]
  },
  {
   "cell_type": "markdown",
   "metadata": {},
   "source": [
    "##### Using our table above\n",
    "\n",
    "1. \n",
    "```sql\n",
    "SELECT * FROM Country_Details\n",
    "WHERE Population > 100;\n",
    "```\n",
    "\n",
    "Returns all the columns where the population is greater than 100 million\n",
    "\n",
    "| CountryID | Name    | Region       | Population (millions) | Currency         | Staple_Food             |\n",
    "|-----------|---------|--------------|-----------------------|------------------|-------------------------|\n",
    "| 1         | Nigeria | West Africa  | 223                   | Nigerian Naira   | Jollof Rice             |\n",
    "| 3         | Egypt   | North Africa | 109                   | Egyptian Pound   | Aish Baladi (Flatbread) |\n",
    "\n",
    "\n",
    "2. \n",
    "\n",
    "```sql\n",
    "SELECT Currency, Region FROM Country_Details\n",
    "WHERE Name ='South Africa';\n",
    "```\n",
    "\n",
    "| Currency           | Region          |\n",
    "|--------------------|-----------------|\n",
    "| South African Rand | Southern Africa |\n",
    "\n",
    "\n",
    "Returns the South African Rand and Southern Africa as shown above\n",
    "\n",
    "\n",
    "\n",
    "\n",
    "\n"
   ]
  },
  {
   "cell_type": "markdown",
   "metadata": {},
   "source": [
    "##### Some common operators that can be used in the WHERE clause\n",
    "\n",
    "* = means Equal \n",
    "* `>` means Greater than \n",
    "* `<` means Less than\n",
    "* `>=` means Greater than or equal\n",
    "* <= means Less than or equal\n",
    "* <>  means Not equal\n"
   ]
  },
  {
   "cell_type": "code",
   "execution_count": null,
   "metadata": {
    "vscode": {
     "languageId": "sql"
    }
   },
   "outputs": [],
   "source": []
  },
  {
   "cell_type": "markdown",
   "metadata": {},
   "source": [
    "### ORDER BY\n",
    "\n",
    "* The **ORDER BY** keyword is used to sort the results in ascending or descending order.\n",
    "* Although SQL sorts in ascending order by default you can use the keyword **ASC**:\n",
    "* To sort in descending order use the **DESC** keyword."
   ]
  },
  {
   "cell_type": "markdown",
   "metadata": {},
   "source": [
    "| CountryID | Name           | Region          | Population (millions) | Currency           | Staple_Food               |\n",
    "|-----------|----------------|-----------------|-----------------------|--------------------|---------------------------|\n",
    "| 1         | Nigeria        | West Africa     | 223                   | Nigerian Naira     | Jollof Rice               |\n",
    "| 2         | Kenya          | East Africa     | 54                    | Kenyan Shilling    | Ugali (Maize porridge)    |\n",
    "| 3         | Egypt          | North Africa    | 109                   | Egyptian Pound     | Aish Baladi (Flatbread)   |\n",
    "| 4         | South Africa   | Southern Africa | 60                    | South African Rand | Pap (Maize porridge)      |\n",
    "| 5         | Ghana          | West Africa     | 32                    | Ghanaian Cedi      | Fufu (Cassava/Yam)        |\n",
    "\n",
    "### using our table again\n",
    "\n",
    "1. \n",
    "\n",
    "```sql\n",
    "SELECT * FROM Country_Details\n",
    "ORDER BY Population DESC ;\n",
    "```\n",
    "\n",
    "\n",
    "| CountryID | Name           | Region          | Population (millions) | Currency           | Staple_Food               |\n",
    "|-----------|----------------|-----------------|-----------------------|--------------------|---------------------------|\n",
    "| 1         | Nigeria        | West Africa     | 223                   | Nigerian Naira     | Jollof Rice               |\n",
    "| 3         | Egypt          | North Africa    | 109                   | Egyptian Pound     | Aish Baladi (Flatbread)   |\n",
    "| 4         | South Africa   | Southern Africa | 60                    | South African Rand | Pap (Maize porridge)      |\n",
    "| 2         | Kenya          | East Africa     | 54                    | Kenyan Shilling    | Ugali (Maize porridge)    |\n",
    "| 5         | Ghana          | West Africa     | 32                    | Ghanaian Cedi      | Fufu (Cassava/Yam)        |\n",
    "\n",
    "Returns results ordered by population in descending order\n",
    "\n",
    "2. \n",
    "\n",
    "```sql\n",
    "SELECT * FROM Country_Details\n",
    "ORDER BY Name ASC ;\n",
    "```\n",
    "\n",
    "| CountryID | Name           | Region          | Population (millions) | Currency           | Staple_Food               |\n",
    "|-----------|----------------|-----------------|-----------------------|--------------------|---------------------------|\n",
    "| 3         | Egypt          | North Africa    | 109                   | Egyptian Pound     | Aish Baladi (Flatbread)   |\n",
    "| 5         | Ghana          | West Africa     | 32                    | Ghanaian Cedi      | Fufu (Cassava/Yam)        |\n",
    "| 2         | Kenya          | East Africa     | 54                    | Kenyan Shilling    | Ugali (Maize porridge)    |\n",
    "| 1         | Nigeria        | West Africa     | 223                   | Nigerian Naira     | Jollof Rice               |\n",
    "| 4         | South Africa   | Southern Africa | 60                    | South African Rand | Pap (Maize porridge)      |\n",
    "\n",
    "\n",
    "Returns results sorted by Name in alphabetical order"
   ]
  }
 ],
 "metadata": {
  "language_info": {
   "name": "python"
  }
 },
 "nbformat": 4,
 "nbformat_minor": 2
}
