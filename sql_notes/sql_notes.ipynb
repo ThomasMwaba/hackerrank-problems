{
 "cells": [
  {
   "cell_type": "markdown",
   "metadata": {
    "vscode": {
     "languageId": "sql"
    }
   },
   "source": [
    "#### Database Tables \n",
    "\n",
    "- A Database usually has got one or more tables, every table has a name\n",
    "- SQL is a standard language for storing, manipulating and retrieving data in databases."
   ]
  },
  {
   "cell_type": "markdown",
   "metadata": {},
   "source": []
  },
  {
   "cell_type": "markdown",
   "metadata": {},
   "source": [
    "### Some of The Most Important SQL Commands\n",
    "\n",
    "- **SELECT** - selects data from a database (Veritabanındaki bilgileri sorgulamak için kullanılır).\n",
    "- **UPDATE** - updates data in a database (Veritabanındaki bilgiyi yeni bilgiyle güncellemek için kullanılır).\n",
    "- **DELETE** - deletes data from a database (Veritabanındaki bilgiyi silmek için kullanılır).\n",
    "- **DROP TABLE** - deletes a table (Veritabanında bulunan bir tabloyu silmek için kullanılır).\n",
    "- **CREATE TABLE** - creates a new table (Veritabanında yeni bir tablo oluşturmak için kullanılır).\n",
    "- **ALTER TABLE** - modifies a table (Mevcut bir tabloyu veya tablodaki sütunları değiştirmek için kullanılır).\n",
    "- **CREATE DATABASE** - creates a new database (Yeni bir veritabanı oluşturursunuz).\n",
    "- **INSERT INTO** - inserts new data into a database (Veritabanına yeni veriler eklemek için kullanılır)."
   ]
  },
  {
   "cell_type": "markdown",
   "metadata": {},
   "source": []
  }
 ],
 "metadata": {
  "language_info": {
   "name": "python"
  }
 },
 "nbformat": 4,
 "nbformat_minor": 2
}
