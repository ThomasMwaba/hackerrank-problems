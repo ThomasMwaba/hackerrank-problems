{
 "cells": [
  {
   "cell_type": "markdown",
   "metadata": {
    "vscode": {
     "languageId": "sql"
    }
   },
   "source": [
    "#### Database Tables \n",
    "\n",
    "- A Database usually has got one or more tables, every table has a name\n",
    "- SQL is a standard language for storing, manipulating and retrieving data in databases."
   ]
  },
  {
   "cell_type": "markdown",
   "metadata": {},
   "source": []
  },
  {
   "cell_type": "markdown",
   "metadata": {},
   "source": [
    "### Some of The Most Important SQL Commands\n",
    "\n",
    "- **SELECT** - selects data from a database (Veritabanındaki bilgileri sorgulamak için kullanılır).\n",
    "- **UPDATE** - updates data in a database (Veritabanındaki bilgiyi yeni bilgiyle güncellemek için kullanılır).\n",
    "- **DELETE** - deletes data from a database (Veritabanındaki bilgiyi silmek için kullanılır).\n",
    "- **DROP TABLE** - deletes a table (Veritabanında bulunan bir tabloyu silmek için kullanılır).\n",
    "- **CREATE TABLE** - creates a new table (Veritabanında yeni bir tablo oluşturmak için kullanılır).\n",
    "- **ALTER TABLE** - modifies a table (Mevcut bir tabloyu veya tablodaki sütunları değiştirmek için kullanılır).\n",
    "- **CREATE DATABASE** - creates a new database (Yeni bir veritabanı oluşturursunuz).\n",
    "- **INSERT INTO** - inserts new data into a database (Veritabanına yeni veriler eklemek için kullanılır)."
   ]
  },
  {
   "cell_type": "markdown",
   "metadata": {},
   "source": []
  },
  {
   "cell_type": "markdown",
   "metadata": {
    "vscode": {
     "languageId": "plaintext"
    }
   },
   "source": [
    "### SQL SELECT \n",
    "\n",
    "The **SELECT** statement is used to **select** data from a database."
   ]
  },
  {
   "cell_type": "markdown",
   "metadata": {},
   "source": [
    "### In SQL \n",
    "\n",
    "\n",
    "\n",
    "-  The **star** allows us to select all the columns from a table.\n",
    "\n",
    "```sql\n",
    "SELECT * \n",
    "```\n",
    "\n",
    "\n",
    "- The *Semicolon* shows the end of a SQL statement\n",
    "\n",
    "```sql\n",
    "SELECT * FROM Table_1;\n",
    "```\n",
    "- It also allows us to run more than one SQL Statement in the same call.\n",
    "\n",
    "```sql\n",
    "SELECT * FROM Table_1;\n",
    "SELECT * FROM Table_1;\n",
    "```\n",
    "\n",
    "\n",
    "Let's say we have a database called **African_Countries** and this database has got a table called **Country_Details** and we want to select data from it."
   ]
  },
  {
   "cell_type": "markdown",
   "metadata": {},
   "source": [
    "| CountryID | Name           | Region         | Population | Currency         | Staple_Food               |\n",
    "|-----------|----------------|----------------|------------|------------------|---------------------------|\n",
    "| 1         | Nigeria        | West Africa    | 223 million | Nigerian Naira   | Jollof Rice               |\n",
    "| 2         | Kenya          | East Africa    | 54 million  | Kenyan Shilling  | Ugali (Maize porridge)    |\n",
    "| 3         | Egypt          | North Africa   | 109 million | Egyptian Pound   | Aish Baladi (Flatbread)   |\n",
    "| 4         | South Africa   | Southern Africa| 60 million  | South African Rand | Pap (Maize porridge)      |\n",
    "| 5         | Ghana          | West Africa    | 32 million  | Ghanaian Cedi    | Fufu (Cassava/Yam)        |\n",
    "\n",
    "\n",
    "\n",
    "**To select all the columns from the table above**"
   ]
  },
  {
   "cell_type": "markdown",
   "metadata": {
    "vscode": {
     "languageId": "sql"
    }
   },
   "source": [
    "```sql\n",
    "SELECT * FROM Country_Details;\n",
    "```"
   ]
  },
  {
   "cell_type": "code",
   "execution_count": null,
   "metadata": {
    "vscode": {
     "languageId": "sql"
    }
   },
   "outputs": [],
   "source": []
  },
  {
   "cell_type": "markdown",
   "metadata": {},
   "source": [
    "SQL also allows us to select specific columns from the table as shown below\n",
    "\n",
    "```sql\n",
    "SELECT column1, column2, ...\n",
    "FROM table_name;\n",
    "```\n",
    "\n",
    "Using our Country_Details table,"
   ]
  },
  {
   "cell_type": "markdown",
   "metadata": {},
   "source": [
    "```sql\n",
    "SELECT Name, Staple_Food\n",
    "FROM Country_Details;\n",
    "```\n",
    "\n",
    "The result of this **SELECT** statement would be:"
   ]
  },
  {
   "cell_type": "markdown",
   "metadata": {},
   "source": [
    "| Name          | Staple Food               |\n",
    "|---------------|---------------------------|\n",
    "| Nigeria       | Jollof Rice               |\n",
    "| Kenya         | Ugali (Maize porridge)    |\n",
    "| Egypt         | Aish Baladi (Flatbread)   |\n",
    "| South Africa  | Pap (Maize porridge)      |\n",
    "| Ghana         | Fufu (Cassava/Yam)        |\n"
   ]
  },
  {
   "cell_type": "code",
   "execution_count": null,
   "metadata": {
    "vscode": {
     "languageId": "sql"
    }
   },
   "outputs": [],
   "source": []
  },
  {
   "cell_type": "markdown",
   "metadata": {},
   "source": [
    "### WHERE Clause\n",
    "\n",
    "The **WHERE** clause is used to filter records.\n",
    "\n",
    "It is used to get records that meet a specific condition\n",
    "\n",
    "* Quotes are used when selecting records that are in text format but not numeric"
   ]
  },
  {
   "cell_type": "markdown",
   "metadata": {},
   "source": [
    "| CountryID | Name           | Region          | Population (millions) | Currency           | Staple_Food               |\n",
    "|-----------|----------------|-----------------|-----------------------|--------------------|---------------------------|\n",
    "| 1         | Nigeria        | West Africa     | 223                   | Nigerian Naira     | Jollof Rice               |\n",
    "| 2         | Kenya          | East Africa     | 54                    | Kenyan Shilling    | Ugali (Maize porridge)    |\n",
    "| 3         | Egypt          | North Africa    | 109                   | Egyptian Pound     | Aish Baladi (Flatbread)   |\n",
    "| 4         | South Africa   | Southern Africa | 60                    | South African Rand | Pap (Maize porridge)      |\n",
    "| 5         | Ghana          | West Africa     | 32                    | Ghanaian Cedi      | Fufu (Cassava/Yam)        |\n"
   ]
  },
  {
   "cell_type": "markdown",
   "metadata": {},
   "source": [
    "##### Using our table above\n",
    "\n",
    "1. \n",
    "```sql\n",
    "SELECT * FROM Country_Details\n",
    "WHERE Population > 100;\n",
    "```\n",
    "\n",
    "Returns all the columns where the population is greater than 100 million\n",
    "\n",
    "| CountryID | Name    | Region       | Population (millions) | Currency         | Staple_Food             |\n",
    "|-----------|---------|--------------|-----------------------|------------------|-------------------------|\n",
    "| 1         | Nigeria | West Africa  | 223                   | Nigerian Naira   | Jollof Rice             |\n",
    "| 3         | Egypt   | North Africa | 109                   | Egyptian Pound   | Aish Baladi (Flatbread) |\n",
    "\n",
    "\n",
    "2. \n",
    "\n",
    "```sql\n",
    "SELECT Currency, Region FROM Country_Details\n",
    "WHERE Name ='South Africa';\n",
    "```\n",
    "\n",
    "| Currency           | Region          |\n",
    "|--------------------|-----------------|\n",
    "| South African Rand | Southern Africa |\n",
    "\n",
    "\n",
    "Returns the South African Rand and Southern Africa as shown above\n",
    "\n",
    "\n",
    "\n",
    "\n",
    "\n"
   ]
  },
  {
   "cell_type": "markdown",
   "metadata": {},
   "source": [
    "##### Some common operators that can be used in the WHERE clause\n",
    "\n",
    "* = means Equal \n",
    "* `>` means Greater than \n",
    "* `<` means Less than\n",
    "* `>=` means Greater than or equal\n",
    "* <= means Less than or equal\n",
    "* <>  means Not equal\n"
   ]
  },
  {
   "cell_type": "code",
   "execution_count": null,
   "metadata": {
    "vscode": {
     "languageId": "sql"
    }
   },
   "outputs": [],
   "source": []
  },
  {
   "cell_type": "markdown",
   "metadata": {},
   "source": [
    "### ORDER BY\n",
    "\n",
    "* The **ORDER BY** keyword is used to sort the results in ascending or descending order.\n",
    "* Although SQL sorts in ascending order by default you can use the keyword **ASC**:\n",
    "* To sort in descending order use the **DESC** keyword."
   ]
  },
  {
   "cell_type": "markdown",
   "metadata": {},
   "source": [
    "| CountryID | Name           | Region          | Population (millions) | Currency           | Staple_Food               |\n",
    "|-----------|----------------|-----------------|-----------------------|--------------------|---------------------------|\n",
    "| 1         | Nigeria        | West Africa     | 223                   | Nigerian Naira     | Jollof Rice               |\n",
    "| 2         | Kenya          | East Africa     | 54                    | Kenyan Shilling    | Ugali (Maize porridge)    |\n",
    "| 3         | Egypt          | North Africa    | 109                   | Egyptian Pound     | Aish Baladi (Flatbread)   |\n",
    "| 4         | South Africa   | Southern Africa | 60                    | South African Rand | Pap (Maize porridge)      |\n",
    "| 5         | Ghana          | West Africa     | 32                    | Ghanaian Cedi      | Fufu (Cassava/Yam)        |\n",
    "\n",
    "### using our table again\n",
    "\n",
    "1. \n",
    "\n",
    "```sql\n",
    "SELECT * FROM Country_Details\n",
    "ORDER BY Population DESC ;\n",
    "```\n",
    "\n",
    "\n",
    "| CountryID | Name           | Region          | Population (millions) | Currency           | Staple_Food               |\n",
    "|-----------|----------------|-----------------|-----------------------|--------------------|---------------------------|\n",
    "| 1         | Nigeria        | West Africa     | 223                   | Nigerian Naira     | Jollof Rice               |\n",
    "| 3         | Egypt          | North Africa    | 109                   | Egyptian Pound     | Aish Baladi (Flatbread)   |\n",
    "| 4         | South Africa   | Southern Africa | 60                    | South African Rand | Pap (Maize porridge)      |\n",
    "| 2         | Kenya          | East Africa     | 54                    | Kenyan Shilling    | Ugali (Maize porridge)    |\n",
    "| 5         | Ghana          | West Africa     | 32                    | Ghanaian Cedi      | Fufu (Cassava/Yam)        |\n",
    "\n",
    "Returns results ordered by population in descending order\n",
    "\n",
    "2. \n",
    "\n",
    "```sql\n",
    "SELECT * FROM Country_Details\n",
    "ORDER BY Name ASC ;\n",
    "```\n",
    "\n",
    "| CountryID | Name           | Region          | Population (millions) | Currency           | Staple_Food               |\n",
    "|-----------|----------------|-----------------|-----------------------|--------------------|---------------------------|\n",
    "| 3         | Egypt          | North Africa    | 109                   | Egyptian Pound     | Aish Baladi (Flatbread)   |\n",
    "| 5         | Ghana          | West Africa     | 32                    | Ghanaian Cedi      | Fufu (Cassava/Yam)        |\n",
    "| 2         | Kenya          | East Africa     | 54                    | Kenyan Shilling    | Ugali (Maize porridge)    |\n",
    "| 1         | Nigeria        | West Africa     | 223                   | Nigerian Naira     | Jollof Rice               |\n",
    "| 4         | South Africa   | Southern Africa | 60                    | South African Rand | Pap (Maize porridge)      |\n",
    "\n",
    "\n",
    "Returns results sorted by Name in alphabetical order"
   ]
  },
  {
   "cell_type": "code",
   "execution_count": null,
   "metadata": {
    "vscode": {
     "languageId": "sql"
    }
   },
   "outputs": [],
   "source": []
  },
  {
   "cell_type": "markdown",
   "metadata": {
    "vscode": {
     "languageId": "sql"
    }
   },
   "source": [
    "### AND Operator\n",
    "\n",
    "The **AND** operator returns a record if all the conditions are **TRUE**.\n",
    "\n",
    "```sql\n",
    "SELECT * \n",
    "FROM Country_Details \n",
    "WHERE Name = 'Nigeria' \n",
    "AND Population > 100;\n",
    "```\n",
    "\n",
    "\n",
    "| CountryID | Name           | Region          | Population (millions) | Currency           | Staple_Food               |\n",
    "|-----------|----------------|-----------------|-----------------------|--------------------|---------------------------|\n",
    "| 1         | Nigeria        | West Africa     | 223                   | Nigerian Naira     | Jollof Rice               |\n",
    "| 2         | Kenya          | East Africa     | 54                    | Kenyan Shilling    | Ugali (Maize porridge)    |\n",
    "| 3         | Egypt          | North Africa    | 109                   | Egyptian Pound     | Aish Baladi (Flatbread)   |\n",
    "| 4         | South Africa   | Southern Africa | 60                    | South African Rand | Pap (Maize porridge)      |\n",
    "| 5         | Ghana          | West Africa     | 32                    | Ghanaian Cedi      | Fufu (Cassava/Yam)        |\n",
    "\n",
    "\n",
    "\n",
    "**Returns the result:**\n",
    "\n",
    "| CountryID | Name    | Region      | Population (millions) | Currency        | Staple_Food  |\n",
    "|-----------|---------|-------------|-----------------------|-----------------|--------------|\n",
    "| 1         | Nigeria | West Africa | 223                   | Nigerian Naira  | Jollof Rice  |"
   ]
  },
  {
   "cell_type": "code",
   "execution_count": null,
   "metadata": {
    "vscode": {
     "languageId": "sql"
    }
   },
   "outputs": [],
   "source": []
  },
  {
   "cell_type": "markdown",
   "metadata": {
    "vscode": {
     "languageId": "sql"
    }
   },
   "source": [
    "### OR Operator\n",
    "\n",
    "The **OR** operator returns a record if any of the conditions are **TRUE**.\n",
    "\n",
    "\n",
    "```sql\n",
    "SELECT * \n",
    "FROM Country_Details \n",
    "WHERE Name = 'Zambia' \n",
    "OR Staple_Food = 'Pap (Maize porridge) ';\n",
    "```\n",
    "\n",
    "\n",
    "| CountryID | Name           | Region          | Population (millions) | Currency           | Staple_Food               |\n",
    "|-----------|----------------|-----------------|-----------------------|--------------------|---------------------------|\n",
    "| 1         | Nigeria        | West Africa     | 223                   | Nigerian Naira     | Jollof Rice               |\n",
    "| 2         | Kenya          | East Africa     | 54                    | Kenyan Shilling    | Ugali (Maize porridge)    |\n",
    "| 3         | Egypt          | North Africa    | 109                   | Egyptian Pound     | Aish Baladi (Flatbread)   |\n",
    "| 4         | South Africa   | Southern Africa | 60                    | South African Rand | Pap (Maize porridge)      |\n",
    "| 5         | Ghana          | West Africa     | 32                    | Ghanaian Cedi      | Fufu (Cassava/Yam)        |\n",
    "\n",
    "\n",
    "\n",
    "\n",
    "**Since Zambia is not in the table only South Africa is returned**\n",
    "| CountryID | Name         | Region          | Population (millions) | Currency           | Staple_Food         |\n",
    "|-----------|--------------|-----------------|-----------------------|--------------------|---------------------|\n",
    "| 4         | South Africa | Southern Africa | 60                    | South African Rand | Pap (Maize porridge)|\n"
   ]
  },
  {
   "cell_type": "markdown",
   "metadata": {},
   "source": []
  },
  {
   "cell_type": "markdown",
   "metadata": {
    "vscode": {
     "languageId": "sql"
    }
   },
   "source": [
    "### IN OPERATOR \n",
    "\n",
    "- The **IN** operator can be used to choose rows where a specific value is present in a field.\n",
    "\n",
    "- The IN operator works in the same way as writing more than one *OR* conditions\n",
    "\n",
    "\n",
    "\n",
    "```sql\n",
    "SELECT * \n",
    "FROM Country_Details \n",
    "WHERE Name IN ('Zambia', 'South Africa', 'Kenya');\n",
    "```\n",
    "\n",
    "\n",
    "| CountryID | Name           | Region          | Population (millions) | Currency           | Staple_Food               |\n",
    "|-----------|----------------|-----------------|-----------------------|--------------------|---------------------------|\n",
    "| 1         | Nigeria        | West Africa     | 223                   | Nigerian Naira     | Jollof Rice               |\n",
    "| 2         | Kenya          | East Africa     | 54                    | Kenyan Shilling    | Ugali (Maize porridge)    |\n",
    "| 3         | Egypt          | North Africa    | 109                   | Egyptian Pound     | Aish Baladi (Flatbread)   |\n",
    "| 4         | South Africa   | Southern Africa | 60                    | South African Rand | Pap (Maize porridge)      |\n",
    "| 5         | Ghana          | West Africa     | 32                    | Ghanaian Cedi      | Fufu (Cassava/Yam)        |\n",
    "\n",
    "\n",
    "\n",
    "**Rows having South Africa and Kenya are returned since Zambia is absent**\n",
    "\n",
    "| CountryID | Name         | Region          | Population (millions) | Currency           | Staple_Food         |\n",
    "|-----------|--------------|-----------------|-----------------------|--------------------|---------------------|\n",
    "| 2         | Kenya        | East Africa     | 54                    | Kenyan Shilling    | Ugali (Maize porridge)|\n",
    "| 4         | South Africa | Southern Africa | 60                    | South African Rand | Pap (Maize porridge)|\n",
    "\n",
    "\n"
   ]
  },
  {
   "cell_type": "code",
   "execution_count": null,
   "metadata": {
    "vscode": {
     "languageId": "sql"
    }
   },
   "outputs": [],
   "source": []
  },
  {
   "cell_type": "markdown",
   "metadata": {
    "vscode": {
     "languageId": "sql"
    }
   },
   "source": [
    "### BETWEEN Operator\n",
    "\n",
    "The **BETWEEN** operator selects values within a given range. The values can be **numbers**, **text**, or **dates**.\n",
    "\n",
    "\n",
    "1. \n",
    "```sql\n",
    "SELECT * FROM Country_Details\n",
    "WHERE Population BETWEEN 100 AND 300;\n",
    "```\n",
    "\n",
    "| CountryID | Name           | Region          | Population (millions) | Currency           | Staple_Food               |\n",
    "|-----------|----------------|-----------------|-----------------------|--------------------|---------------------------|\n",
    "| 1         | Nigeria        | West Africa     | 223                   | Nigerian Naira     | Jollof Rice               |\n",
    "| 2         | Kenya          | East Africa     | 54                    | Kenyan Shilling    | Ugali (Maize porridge)    |\n",
    "| 3         | Egypt          | North Africa    | 109                   | Egyptian Pound     | Aish Baladi (Flatbread)   |\n",
    "| 4         | South Africa   | Southern Africa | 60                    | South African Rand | Pap (Maize porridge)      |\n",
    "| 5         | Ghana          | West Africa     | 32                    | Ghanaian Cedi      | Fufu (Cassava/Yam)        |\n",
    "\n",
    "**Returns this result**\n",
    "\n",
    "| CountryID | Name    | Region      | Population (millions) | Currency        | Staple_Food  |\n",
    "|-----------|---------|-------------|-----------------------|-----------------|--------------|\n",
    "| 1         | Nigeria | West Africa | 223                   | Nigerian Naira  | Jollof Rice  |\n",
    "| 3         | Egypt   | North Africa| 109                   | Egyptian Pound  | Aish Baladi  |\n",
    "\n",
    "\n",
    "2.\n",
    "\n",
    "```sql\n",
    "SELECT * FROM Country_Details\n",
    "WHERE Name BETWEEN 'Angola' AND 'Ghana'\n",
    "ORDER BY Name ASC;\n",
    "```\n",
    "\n",
    "**Returns the result ordered in Alphabetical order**\n",
    "\n",
    "| CountryID | Name   | Region      | Population (millions) | Currency       | Staple_Food         |\n",
    "|-----------|--------|-------------|-----------------------|----------------|---------------------|\n",
    "| 3         | Egypt  | North Africa| 109                   | Egyptian Pound | Aish Baladi (Flatbread)|\n",
    "| 5         | Ghana  | West Africa | 32                    | Ghanaian Cedi  | Fufu                |\n",
    "\n"
   ]
  },
  {
   "cell_type": "code",
   "execution_count": null,
   "metadata": {
    "vscode": {
     "languageId": "sql"
    }
   },
   "outputs": [],
   "source": []
  },
  {
   "cell_type": "markdown",
   "metadata": {
    "vscode": {
     "languageId": "sql"
    }
   },
   "source": [
    "### WILDCARDS CHARACTORS\n",
    "\n",
    "Wildcard characters are used with the **LIKE** operator. The **LIKE** operator is used in a WHERE clause to search for a specified pattern in a column.\n",
    "\n",
    "\n",
    "```sql\n",
    "SELECT * FROM Country_Details\n",
    "WHERE Name LIKE 'K%';\n",
    "```\n",
    "\n",
    "\n",
    "| CountryID | Name           | Region          | Population (millions) | Currency           | Staple_Food               |\n",
    "|-----------|----------------|-----------------|-----------------------|--------------------|---------------------------|\n",
    "| 1         | Nigeria        | West Africa     | 223                   | Nigerian Naira     | Jollof Rice               |\n",
    "| 2         | Kenya          | East Africa     | 54                    | Kenyan Shilling    | Ugali (Maize porridge)    |\n",
    "| 3         | Egypt          | North Africa    | 109                   | Egyptian Pound     | Aish Baladi (Flatbread)   |\n",
    "| 4         | South Africa   | Southern Africa | 60                    | South African Rand | Pap (Maize porridge)      |\n",
    "| 5         | Ghana          | West Africa     | 32                    | Ghanaian Cedi      | Fufu (Cassava/Yam)        |\n",
    "\n",
    "\n",
    "**Returns a country whose Name starts with 'K'**\n",
    "\n",
    "\n",
    "\n",
    "| CountryID | Name   | Region      | Population (millions) | Currency        | Staple_Food            |\n",
    "|-----------|--------|-------------|-----------------------|-----------------|------------------------|\n",
    "| 2         | Kenya  | East Africa | 54                    | Kenyan Shilling | Ugali (Maize porridge) |\n",
    "\n",
    "\n",
    "\n",
    "```sql\n",
    "SELECT * FROM Country_Details\n",
    "WHERE Name LIKE '%a';\n",
    "```\n",
    "**Returns all the countries whose Name starts with 'a'**\n",
    "\n",
    "| CountryID | Name         | Region          | Population (millions) | Currency           | Staple_Food              |\n",
    "|-----------|--------------|-----------------|-----------------------|--------------------|--------------------------|\n",
    "| 2         | Kenya        | East Africa     | 54                    | Kenyan Shilling    | Ugali (Maize porridge)   |\n",
    "| 4         | South Africa | Southern Africa | 60                    | South African Rand | Pap (Maize porridge)     |\n",
    "| 5         | Ghana        | West Africa     | 32                    | Ghanaian Cedi      | Fufu (Cassava/Yam)       |\n",
    "\n"
   ]
  },
  {
   "cell_type": "code",
   "execution_count": null,
   "metadata": {
    "vscode": {
     "languageId": "sql"
    }
   },
   "outputs": [],
   "source": []
  },
  {
   "cell_type": "markdown",
   "metadata": {
    "vscode": {
     "languageId": "sql"
    }
   },
   "source": [
    "### SELECT DISTINCT \n",
    "\n",
    "* is used to return only distinct (different) values\n",
    "\n",
    "```sql\n",
    "SELECT DISTINCT Staple_Food FROM Country_Details;\n",
    "```\n",
    "\n",
    "| No. | Name           | Region          | Population (Millions) | Currency            | Staple_Food               |\n",
    "|-----|----------------|-----------------|-----------------------|---------------------|---------------------------|\n",
    "| 1   | Nigeria        | West Africa      | 223                   | Nigerian Naira      | Jollof Rice               |\n",
    "| 2   | Kenya          | East Africa      | 54                    | Kenyan Shilling     | Ugali (Maize porridge)    |\n",
    "| 3   | Egypt          | North Africa     | 109                   | Egyptian Pound      | Aish Baladi (Flatbread)   |\n",
    "| 4   | South Africa   | Southern Africa  | 60                    | South African Rand  | Pap (Maize porridge)      |\n",
    "| 5   | Ghana          | West Africa      | 32                    | Ghanaian Cedi       | Fufu (Cassava/Yam)        |\n",
    "| 6   | Tanzania       | East Africa      | 67                    | Tanzanian Shilling  | Ugali (Maize porridge)    |\n",
    "| 7   | Uganda         | East Africa      | 48                    | Ugandan Shilling    | Matoke (Steamed plantains)|\n",
    "| 8   | Gambia         | West Africa      | 2.7                   | Gambian Dalasi      | Jollof Rice               |\n",
    "\n",
    "\n",
    "**Returns the following results**\n",
    "\n",
    "| Staple_Food               |\n",
    "|---------------------------|\n",
    "| Jollof Rice               |\n",
    "| Ugali (Maize porridge)    |\n",
    "| Aish Baladi (Flatbread)   |\n",
    "| Pap (Maize porridge)      |\n",
    "| Fufu (Cassava/Yam)        |\n",
    "| Matoke (Steamed plantains)|\n",
    "\n"
   ]
  },
  {
   "cell_type": "code",
   "execution_count": null,
   "metadata": {
    "vscode": {
     "languageId": "sql"
    }
   },
   "outputs": [],
   "source": []
  },
  {
   "cell_type": "markdown",
   "metadata": {
    "vscode": {
     "languageId": "sql"
    }
   },
   "source": [
    "### LIMIT\n",
    "\n",
    "* is used to return a specific number of records in **MySQL Databases**\n",
    "\n",
    "```sql\n",
    "SELECT Name FROM Country_Details\n",
    "LIMIT 4;\n",
    "```\n",
    "\n",
    "| No. | Name           | Region          | Population (Millions) | Currency            | Staple_Food               |\n",
    "|-----|----------------|-----------------|-----------------------|---------------------|---------------------------|\n",
    "| 1   | Nigeria        | West Africa      | 223                   | Nigerian Naira      | Jollof Rice               |\n",
    "| 2   | Kenya          | East Africa      | 54                    | Kenyan Shilling     | Ugali (Maize porridge)    |\n",
    "| 3   | Egypt          | North Africa     | 109                   | Egyptian Pound      | Aish Baladi (Flatbread)   |\n",
    "| 4   | South Africa   | Southern Africa  | 60                    | South African Rand  | Pap (Maize porridge)      |\n",
    "| 5   | Ghana          | West Africa      | 32                    | Ghanaian Cedi       | Fufu (Cassava/Yam)        |\n",
    "| 6   | Tanzania       | East Africa      | 67                    | Tanzanian Shilling  | Ugali (Maize porridge)    |\n",
    "| 7   | Uganda         | East Africa      | 48                    | Ugandan Shilling    | Matoke (Steamed plantains)|\n",
    "| 8   | Gambia         | West Africa      | 2.7                   | Gambian Dalasi      | Jollof Rice               |\n",
    "\n",
    "\n",
    "**Returns the names of the top 4 countries**\n",
    "\n",
    "| Name           |\n",
    "|----------------|\n",
    "| Nigeria        |\n",
    "| Kenya          |\n",
    "| Egypt          |\n",
    "| South Africa   |\n",
    "\n",
    "**Note**\n",
    "\n",
    "\n",
    "1. **In Oracle you would write it like this**\n",
    "\n",
    "```sql\n",
    "SELECT Name \n",
    "FROM Country_Details\n",
    "FETCH FIRST 4 ROWS ONLY;\n",
    "```\n",
    "\n",
    "\n",
    "2. **In SQL Server you would write it like this**\n",
    "\n",
    "```sql\n",
    "SELECT TOP 4 Name \n",
    "FROM Country_Details;\n",
    ";\n",
    "```"
   ]
  },
  {
   "cell_type": "markdown",
   "metadata": {},
   "source": []
  },
  {
   "cell_type": "markdown",
   "metadata": {
    "vscode": {
     "languageId": "sql"
    }
   },
   "source": [
    "### The NOT Operator\n",
    "\n",
    "The NOT operator  (**<>**)  is  used to return the opposite.\n",
    "\n",
    "\n",
    "```sql\n",
    "SELECT * \n",
    "FROM Country_Details\n",
    "WHERE Region <> 'West Africa' AND Region <> 'East Africa';\n",
    "```\n",
    "\n",
    "| No. | Name           | Region          | Population (Millions) | Currency            | Staple_Food               |\n",
    "|-----|----------------|-----------------|-----------------------|---------------------|---------------------------|\n",
    "| 1   | Nigeria        | West Africa      | 223                   | Nigerian Naira      | Jollof Rice               |\n",
    "| 2   | Kenya          | East Africa      | 54                    | Kenyan Shilling     | Ugali (Maize porridge)    |\n",
    "| 3   | Egypt          | North Africa     | 109                   | Egyptian Pound      | Aish Baladi (Flatbread)   |\n",
    "| 4   | South Africa   | Southern Africa  | 60                    | South African Rand  | Pap (Maize porridge)      |\n",
    "| 5   | Ghana          | West Africa      | 32                    | Ghanaian Cedi       | Fufu (Cassava/Yam)        |\n",
    "| 6   | Tanzania       | East Africa      | 67                    | Tanzanian Shilling  | Ugali (Maize porridge)    |\n",
    "| 7   | Uganda         | East Africa      | 48                    | Ugandan Shilling    | Matoke (Steamed plantains)|\n",
    "| 8   | Gambia         | West Africa      | 2.7                   | Gambian Dalasi      | Jollof Rice               |\n",
    "\n",
    "**where the Region is neither West Africa nor East Africa**\n",
    "\n",
    "| No. | Name           | Region          | Population (Millions) | Currency            | Staple_Food               |\n",
    "|-----|----------------|-----------------|-----------------------|---------------------|---------------------------|\n",
    "| 3   | Egypt          | North Africa     | 109                   | Egyptian Pound      | Aish Baladi (Flatbread)   |\n",
    "| 4   | South Africa   | Southern Africa  | 60                    | South African Rand  | Pap (Maize porridge)      |\n"
   ]
  },
  {
   "cell_type": "markdown",
   "metadata": {},
   "source": []
  }
 ],
 "metadata": {
  "language_info": {
   "name": "python"
  }
 },
 "nbformat": 4,
 "nbformat_minor": 2
}
